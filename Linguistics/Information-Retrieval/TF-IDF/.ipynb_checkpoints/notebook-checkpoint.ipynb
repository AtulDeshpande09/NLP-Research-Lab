{
 "cells": [
  {
   "cell_type": "code",
   "execution_count": 1,
   "id": "ccd3224f-caa4-4c72-b6d8-089cd3401d81",
   "metadata": {},
   "outputs": [],
   "source": [
    "from bow import BagofWords"
   ]
  },
  {
   "cell_type": "code",
   "execution_count": 2,
   "id": "3b707030-78b4-4d4c-b650-b186335cefcf",
   "metadata": {},
   "outputs": [],
   "source": [
    "t1 = \"I love NLP\" \n",
    "t2 = \"NLP is amazing\"\n",
    "t3 = \"This is why nlp is my research interest\"\n",
    "texts = [t1,t2,t3]"
   ]
  },
  {
   "cell_type": "code",
   "execution_count": 3,
   "id": "bcb20489-48eb-4481-a3b5-d9cddb340f1a",
   "metadata": {},
   "outputs": [],
   "source": [
    "bag = BagofWords()"
   ]
  },
  {
   "cell_type": "code",
   "execution_count": 4,
   "id": "4053cc4c-71cd-4284-8c43-fa9dd400f56c",
   "metadata": {},
   "outputs": [
    {
     "data": {
      "text/plain": [
       "False"
      ]
     },
     "execution_count": 4,
     "metadata": {},
     "output_type": "execute_result"
    }
   ],
   "source": [
    "bag.matrix"
   ]
  },
  {
   "cell_type": "code",
   "execution_count": 5,
   "id": "7c6733f0-2daa-4a47-afe2-c4dd8bdfc771",
   "metadata": {},
   "outputs": [],
   "source": [
    "bag_of_words = bag.bow(texts)"
   ]
  },
  {
   "cell_type": "code",
   "execution_count": 6,
   "id": "5b58032b-a61a-4572-9e68-a7ced498533d",
   "metadata": {},
   "outputs": [],
   "source": [
    "from tfidf import TFIDF"
   ]
  },
  {
   "cell_type": "code",
   "execution_count": 7,
   "id": "84ad46b9-11bf-4d17-9a3c-1c00e61b7908",
   "metadata": {},
   "outputs": [
    {
     "name": "stdout",
     "output_type": "stream",
     "text": [
      "Matrix Created!!!\n"
     ]
    }
   ],
   "source": [
    "ti = TFIDF()\n",
    "\n",
    "ti.get_words(bag_of_words)"
   ]
  },
  {
   "cell_type": "code",
   "execution_count": 8,
   "id": "d2127f71-8858-4344-bad3-c1a0d715a0d4",
   "metadata": {},
   "outputs": [
    {
     "name": "stdout",
     "output_type": "stream",
     "text": [
      "word and doc :  i doc0\n",
      "word and doc :  i doc1\n",
      "word and doc :  i doc2\n",
      "word and doc :  love doc0\n",
      "word and doc :  love doc1\n",
      "word and doc :  love doc2\n",
      "word and doc :  nlp doc0\n",
      "word and doc :  nlp doc1\n",
      "word and doc :  nlp doc2\n",
      "word and doc :  is doc0\n",
      "word and doc :  is doc1\n",
      "word and doc :  is doc2\n",
      "word and doc :  amazing doc0\n",
      "word and doc :  amazing doc1\n",
      "word and doc :  amazing doc2\n",
      "word and doc :  this doc0\n",
      "word and doc :  this doc1\n",
      "word and doc :  this doc2\n",
      "word and doc :  why doc0\n",
      "word and doc :  why doc1\n",
      "word and doc :  why doc2\n",
      "word and doc :  my doc0\n",
      "word and doc :  my doc1\n",
      "word and doc :  my doc2\n",
      "word and doc :  research doc0\n",
      "word and doc :  research doc1\n",
      "word and doc :  research doc2\n",
      "word and doc :  interest doc0\n",
      "word and doc :  interest doc1\n",
      "word and doc :  interest doc2\n"
     ]
    },
    {
     "data": {
      "text/plain": [
       "{'index': ['i',\n",
       "  'love',\n",
       "  'nlp',\n",
       "  'is',\n",
       "  'amazing',\n",
       "  'this',\n",
       "  'why',\n",
       "  'my',\n",
       "  'research',\n",
       "  'interest'],\n",
       " 'doc0': [0.3662040962227032,\n",
       "  0.4642931226523877,\n",
       "  0.0,\n",
       "  0.0,\n",
       "  0.0,\n",
       "  0.0,\n",
       "  0.0,\n",
       "  0.0,\n",
       "  0.0,\n",
       "  0.0],\n",
       " 'doc1': [0.0,\n",
       "  0.0,\n",
       "  0.13515503603605478,\n",
       "  0.18989960975429496,\n",
       "  0.8291071558130534,\n",
       "  0.0,\n",
       "  0.0,\n",
       "  0.0,\n",
       "  0.0,\n",
       "  0.0],\n",
       " 'doc2': [0.0,\n",
       "  0.0,\n",
       "  0.05068313851352055,\n",
       "  0.11501441779261341,\n",
       "  0.0,\n",
       "  0.2126745278238281,\n",
       "  0.2509179821994087,\n",
       "  0.3027072150722953,\n",
       "  0.37469758094144917,\n",
       "  0.4762711820288842]}"
      ]
     },
     "execution_count": 8,
     "metadata": {},
     "output_type": "execute_result"
    }
   ],
   "source": [
    "tfidf = ti.tf_idf()\n",
    "tfidf"
   ]
  },
  {
   "cell_type": "code",
   "execution_count": 9,
   "id": "8b4538e9-649c-41ec-8de6-5d4e23b5b836",
   "metadata": {},
   "outputs": [
    {
     "data": {
      "text/html": [
       "<div>\n",
       "<style scoped>\n",
       "    .dataframe tbody tr th:only-of-type {\n",
       "        vertical-align: middle;\n",
       "    }\n",
       "\n",
       "    .dataframe tbody tr th {\n",
       "        vertical-align: top;\n",
       "    }\n",
       "\n",
       "    .dataframe thead th {\n",
       "        text-align: right;\n",
       "    }\n",
       "</style>\n",
       "<table border=\"1\" class=\"dataframe\">\n",
       "  <thead>\n",
       "    <tr style=\"text-align: right;\">\n",
       "      <th></th>\n",
       "      <th>index</th>\n",
       "      <th>doc0</th>\n",
       "      <th>doc1</th>\n",
       "      <th>doc2</th>\n",
       "    </tr>\n",
       "  </thead>\n",
       "  <tbody>\n",
       "    <tr>\n",
       "      <th>0</th>\n",
       "      <td>i</td>\n",
       "      <td>0.366204</td>\n",
       "      <td>0.000000</td>\n",
       "      <td>0.000000</td>\n",
       "    </tr>\n",
       "    <tr>\n",
       "      <th>1</th>\n",
       "      <td>love</td>\n",
       "      <td>0.464293</td>\n",
       "      <td>0.000000</td>\n",
       "      <td>0.000000</td>\n",
       "    </tr>\n",
       "    <tr>\n",
       "      <th>2</th>\n",
       "      <td>nlp</td>\n",
       "      <td>0.000000</td>\n",
       "      <td>0.135155</td>\n",
       "      <td>0.050683</td>\n",
       "    </tr>\n",
       "    <tr>\n",
       "      <th>3</th>\n",
       "      <td>is</td>\n",
       "      <td>0.000000</td>\n",
       "      <td>0.189900</td>\n",
       "      <td>0.115014</td>\n",
       "    </tr>\n",
       "    <tr>\n",
       "      <th>4</th>\n",
       "      <td>amazing</td>\n",
       "      <td>0.000000</td>\n",
       "      <td>0.829107</td>\n",
       "      <td>0.000000</td>\n",
       "    </tr>\n",
       "    <tr>\n",
       "      <th>5</th>\n",
       "      <td>this</td>\n",
       "      <td>0.000000</td>\n",
       "      <td>0.000000</td>\n",
       "      <td>0.212675</td>\n",
       "    </tr>\n",
       "    <tr>\n",
       "      <th>6</th>\n",
       "      <td>why</td>\n",
       "      <td>0.000000</td>\n",
       "      <td>0.000000</td>\n",
       "      <td>0.250918</td>\n",
       "    </tr>\n",
       "    <tr>\n",
       "      <th>7</th>\n",
       "      <td>my</td>\n",
       "      <td>0.000000</td>\n",
       "      <td>0.000000</td>\n",
       "      <td>0.302707</td>\n",
       "    </tr>\n",
       "    <tr>\n",
       "      <th>8</th>\n",
       "      <td>research</td>\n",
       "      <td>0.000000</td>\n",
       "      <td>0.000000</td>\n",
       "      <td>0.374698</td>\n",
       "    </tr>\n",
       "    <tr>\n",
       "      <th>9</th>\n",
       "      <td>interest</td>\n",
       "      <td>0.000000</td>\n",
       "      <td>0.000000</td>\n",
       "      <td>0.476271</td>\n",
       "    </tr>\n",
       "  </tbody>\n",
       "</table>\n",
       "</div>"
      ],
      "text/plain": [
       "      index      doc0      doc1      doc2\n",
       "0         i  0.366204  0.000000  0.000000\n",
       "1      love  0.464293  0.000000  0.000000\n",
       "2       nlp  0.000000  0.135155  0.050683\n",
       "3        is  0.000000  0.189900  0.115014\n",
       "4   amazing  0.000000  0.829107  0.000000\n",
       "5      this  0.000000  0.000000  0.212675\n",
       "6       why  0.000000  0.000000  0.250918\n",
       "7        my  0.000000  0.000000  0.302707\n",
       "8  research  0.000000  0.000000  0.374698\n",
       "9  interest  0.000000  0.000000  0.476271"
      ]
     },
     "execution_count": 9,
     "metadata": {},
     "output_type": "execute_result"
    }
   ],
   "source": [
    "df = ti.to_df()\n",
    "df"
   ]
  },
  {
   "cell_type": "code",
   "execution_count": null,
   "id": "bedeb8b5-f3b5-4f39-ae8a-7df266b2b1f6",
   "metadata": {},
   "outputs": [],
   "source": []
  }
 ],
 "metadata": {
  "kernelspec": {
   "display_name": "Python 3 (ipykernel)",
   "language": "python",
   "name": "python3"
  },
  "language_info": {
   "codemirror_mode": {
    "name": "ipython",
    "version": 3
   },
   "file_extension": ".py",
   "mimetype": "text/x-python",
   "name": "python",
   "nbconvert_exporter": "python",
   "pygments_lexer": "ipython3",
   "version": "3.13.2"
  }
 },
 "nbformat": 4,
 "nbformat_minor": 5
}
