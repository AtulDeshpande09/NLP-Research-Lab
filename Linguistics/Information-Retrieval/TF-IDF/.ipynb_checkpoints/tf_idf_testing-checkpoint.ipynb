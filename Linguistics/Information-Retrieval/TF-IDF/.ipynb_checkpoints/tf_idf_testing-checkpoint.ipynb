{
 "cells": [
  {
   "cell_type": "code",
   "execution_count": 1,
   "id": "7556cc7e-878f-4b59-ab13-5dafcc8dabcf",
   "metadata": {},
   "outputs": [],
   "source": [
    "def tokenize(text:str)->list:\n",
    "    return text.lower().split()\n",
    "\n",
    "def count_frequency(tokens:list)->list:\n",
    "    \"\"\"\n",
    "    Input -> Tokens List of words\n",
    "    Return -> dictionary - {word:freq}\n",
    "    \"\"\"\n",
    "    freq = {}\n",
    "\n",
    "    for word in tokens:\n",
    "        if word not in freq:\n",
    "            freq[word] = 1\n",
    "        else:\n",
    "            freq[word] += 1\n",
    "\n",
    "    return freq"
   ]
  },
  {
   "cell_type": "code",
   "execution_count": 2,
   "id": "8b33b720-23d0-491c-b8ca-6bb772cd211a",
   "metadata": {},
   "outputs": [
    {
     "data": {
      "text/plain": [
       "[['i', 'love', 'nlp'],\n",
       " ['nlp', 'is', 'amazing'],\n",
       " ['this', 'is', 'why', 'nlp', 'is', 'my', 'research', 'interest']]"
      ]
     },
     "execution_count": 2,
     "metadata": {},
     "output_type": "execute_result"
    }
   ],
   "source": [
    "\n",
    "t1 = \"I love NLP\" \n",
    "t2 = \"NLP is amazing\"\n",
    "t3 = \"This is why nlp is my research interest\"\n",
    "texts = [t1,t2,t3]\n",
    "\n",
    "text = []\n",
    "for t in texts :\n",
    "    text.append(tokenize(t))\n",
    "\n",
    "# text is list of tokens - list of list\n",
    "text"
   ]
  },
  {
   "cell_type": "code",
   "execution_count": 3,
   "id": "657678bc-a303-4d52-8e53-d16fb1b049ee",
   "metadata": {},
   "outputs": [
    {
     "data": {
      "text/plain": [
       "{0: {'i': 1, 'love': 1, 'nlp': 1},\n",
       " 1: {'nlp': 1, 'is': 1, 'amazing': 1},\n",
       " 2: {'this': 1,\n",
       "  'is': 2,\n",
       "  'why': 1,\n",
       "  'nlp': 1,\n",
       "  'my': 1,\n",
       "  'research': 1,\n",
       "  'interest': 1}}"
      ]
     },
     "execution_count": 3,
     "metadata": {},
     "output_type": "execute_result"
    }
   ],
   "source": [
    "\n",
    "def create_doc(text:list)->dict:\n",
    "    \"\"\"\n",
    "    Input --> list of lists\n",
    "    returns -> dict of dict\n",
    "    \"\"\"\n",
    "    docs = {}\n",
    "\n",
    "    # enumerate -> add counter to each token\n",
    "    for i , tokens in enumerate(text):\n",
    "        \n",
    "        freq = count_frequency(tokens)\n",
    "        docs[i] = freq\n",
    "    \n",
    "    return docs\n",
    "\n",
    "docs = create_doc(text)\n",
    "docs"
   ]
  },
  {
   "cell_type": "code",
   "execution_count": 4,
   "id": "ac29893b-73e5-4007-9592-fc3281bb5d0e",
   "metadata": {},
   "outputs": [
    {
     "data": {
      "text/plain": [
       "{'index': ['i',\n",
       "  'love',\n",
       "  'nlp',\n",
       "  'is',\n",
       "  'amazing',\n",
       "  'this',\n",
       "  'why',\n",
       "  'my',\n",
       "  'research',\n",
       "  'interest'],\n",
       " 'doc0': [1, 1, 1, 0, 0, 0, 0, 0, 0, 0],\n",
       " 'doc1': [0, 0, 1, 1, 1, 0, 0, 0, 0, 0],\n",
       " 'doc2': [0, 0, 1, 2, 0, 1, 1, 1, 1, 1]}"
      ]
     },
     "execution_count": 4,
     "metadata": {},
     "output_type": "execute_result"
    }
   ],
   "source": [
    "\n",
    "def represent(docs:dict)->dict:\n",
    "    '''\n",
    "    Input --> dict of dict\n",
    "    return -> dict of list\n",
    "    '''\n",
    "\n",
    "    matrix = {\"index\" : [] \n",
    "             }\n",
    "\n",
    "    # docs - dictionary of dictionary\n",
    "    # doc - dictionary { word : frequency }\n",
    "    \n",
    "    for doc in docs :\n",
    "        for word in docs[doc]:\n",
    "            if word not in matrix[\"index\"]:\n",
    "                matrix[\"index\"].append(word)\n",
    "    \n",
    "    for doc in docs :\n",
    "\n",
    "        # Creates List of Zeros for all documents\n",
    "        # We will modify this list later\n",
    "        matrix[f'doc{doc}'] = [0]*(len(matrix['index']))\n",
    "        \n",
    "        for word , frequency in docs[doc].items():\n",
    "            \n",
    "            # Get index of Word\n",
    "            # We can replace Frequency of word at that index - In matrix\n",
    "            index = matrix['index'].index(word)\n",
    "\n",
    "            # Replace\n",
    "            matrix[f'doc{doc}'][index] = frequency\n",
    "\n",
    "\n",
    "    return matrix\n",
    "\n",
    "matrix = represent(docs)\n",
    "matrix"
   ]
  },
  {
   "cell_type": "code",
   "execution_count": 5,
   "id": "01019a5c-229d-48d4-9868-08f5c147da16",
   "metadata": {},
   "outputs": [
    {
     "data": {
      "text/html": [
       "<div>\n",
       "<style scoped>\n",
       "    .dataframe tbody tr th:only-of-type {\n",
       "        vertical-align: middle;\n",
       "    }\n",
       "\n",
       "    .dataframe tbody tr th {\n",
       "        vertical-align: top;\n",
       "    }\n",
       "\n",
       "    .dataframe thead th {\n",
       "        text-align: right;\n",
       "    }\n",
       "</style>\n",
       "<table border=\"1\" class=\"dataframe\">\n",
       "  <thead>\n",
       "    <tr style=\"text-align: right;\">\n",
       "      <th></th>\n",
       "      <th>doc0</th>\n",
       "      <th>doc1</th>\n",
       "      <th>doc2</th>\n",
       "    </tr>\n",
       "    <tr>\n",
       "      <th>index</th>\n",
       "      <th></th>\n",
       "      <th></th>\n",
       "      <th></th>\n",
       "    </tr>\n",
       "  </thead>\n",
       "  <tbody>\n",
       "    <tr>\n",
       "      <th>i</th>\n",
       "      <td>1</td>\n",
       "      <td>0</td>\n",
       "      <td>0</td>\n",
       "    </tr>\n",
       "    <tr>\n",
       "      <th>love</th>\n",
       "      <td>1</td>\n",
       "      <td>0</td>\n",
       "      <td>0</td>\n",
       "    </tr>\n",
       "    <tr>\n",
       "      <th>nlp</th>\n",
       "      <td>1</td>\n",
       "      <td>1</td>\n",
       "      <td>1</td>\n",
       "    </tr>\n",
       "    <tr>\n",
       "      <th>is</th>\n",
       "      <td>0</td>\n",
       "      <td>1</td>\n",
       "      <td>2</td>\n",
       "    </tr>\n",
       "    <tr>\n",
       "      <th>amazing</th>\n",
       "      <td>0</td>\n",
       "      <td>1</td>\n",
       "      <td>0</td>\n",
       "    </tr>\n",
       "    <tr>\n",
       "      <th>this</th>\n",
       "      <td>0</td>\n",
       "      <td>0</td>\n",
       "      <td>1</td>\n",
       "    </tr>\n",
       "    <tr>\n",
       "      <th>why</th>\n",
       "      <td>0</td>\n",
       "      <td>0</td>\n",
       "      <td>1</td>\n",
       "    </tr>\n",
       "    <tr>\n",
       "      <th>my</th>\n",
       "      <td>0</td>\n",
       "      <td>0</td>\n",
       "      <td>1</td>\n",
       "    </tr>\n",
       "    <tr>\n",
       "      <th>research</th>\n",
       "      <td>0</td>\n",
       "      <td>0</td>\n",
       "      <td>1</td>\n",
       "    </tr>\n",
       "    <tr>\n",
       "      <th>interest</th>\n",
       "      <td>0</td>\n",
       "      <td>0</td>\n",
       "      <td>1</td>\n",
       "    </tr>\n",
       "  </tbody>\n",
       "</table>\n",
       "</div>"
      ],
      "text/plain": [
       "          doc0  doc1  doc2\n",
       "index                     \n",
       "i            1     0     0\n",
       "love         1     0     0\n",
       "nlp          1     1     1\n",
       "is           0     1     2\n",
       "amazing      0     1     0\n",
       "this         0     0     1\n",
       "why          0     0     1\n",
       "my           0     0     1\n",
       "research     0     0     1\n",
       "interest     0     0     1"
      ]
     },
     "execution_count": 5,
     "metadata": {},
     "output_type": "execute_result"
    }
   ],
   "source": [
    "import pandas as pd\n",
    "\n",
    "df = pd.DataFrame(matrix,index=None)\n",
    "df.set_index('index' , inplace=True)\n",
    "df"
   ]
  },
  {
   "cell_type": "code",
   "execution_count": 6,
   "id": "6cffe7c1-b18e-47d3-a9d9-f7caf952277c",
   "metadata": {},
   "outputs": [],
   "source": [
    "def TF(term:str , document : list , all_words):\n",
    "\n",
    "    N = len(document)\n",
    "    number_term = document[all_words.index(term)]\n",
    "    \n",
    "    return number_term / N"
   ]
  },
  {
   "cell_type": "code",
   "execution_count": 37,
   "id": "b73b9374-2854-4c32-b374-62813bbbaf39",
   "metadata": {},
   "outputs": [
    {
     "data": {
      "text/plain": [
       "0.1"
      ]
     },
     "execution_count": 37,
     "metadata": {},
     "output_type": "execute_result"
    }
   ],
   "source": [
    "tf = TF(\"research\" , matrix['doc2'],matrix['index'])\n",
    "tf"
   ]
  },
  {
   "cell_type": "code",
   "execution_count": 38,
   "id": "453d990d-a3c0-49f6-bd03-de3ea907dd13",
   "metadata": {},
   "outputs": [],
   "source": [
    "import math\n",
    "\n",
    "def IDF( term , N , matrix ):\n",
    "\n",
    "    term_index = matrix[\"index\"].index(term)\n",
    "    d_with_t = 0\n",
    "    for doc in matrix:\n",
    "        # Checking if word is present in that list\n",
    "        if matrix[doc][term_index] != 0:\n",
    "            d_with_t += 1\n",
    "\n",
    "    # Due to above condition - if will consider matrix[index] also\n",
    "    d_with_t = d_with_t-1\n",
    "\n",
    "    return math.log(N/(d_with_t))"
   ]
  },
  {
   "cell_type": "code",
   "execution_count": 39,
   "id": "a1122fa7-70b8-4c10-8142-e172faeab693",
   "metadata": {},
   "outputs": [
    {
     "data": {
      "text/plain": [
       "1.0986122886681098"
      ]
     },
     "execution_count": 39,
     "metadata": {},
     "output_type": "execute_result"
    }
   ],
   "source": [
    "idf = IDF(\"research\" , 3 , matrix)\n",
    "idf"
   ]
  },
  {
   "cell_type": "code",
   "execution_count": 40,
   "id": "316ecd59-80b6-44ff-bd28-9ed9847227c3",
   "metadata": {},
   "outputs": [],
   "source": [
    "def tf_idf(tf , idf ):\n",
    "    return tf*idf"
   ]
  },
  {
   "cell_type": "code",
   "execution_count": 41,
   "id": "71b1a930-2384-4401-89c9-591c6c936c41",
   "metadata": {},
   "outputs": [
    {
     "data": {
      "text/plain": [
       "0.10986122886681099"
      ]
     },
     "execution_count": 41,
     "metadata": {},
     "output_type": "execute_result"
    }
   ],
   "source": [
    "tf_idf(tf,idf)"
   ]
  },
  {
   "cell_type": "code",
   "execution_count": null,
   "id": "fa8964a7-18fe-4d95-a46a-52b4226ad39c",
   "metadata": {},
   "outputs": [],
   "source": []
  }
 ],
 "metadata": {
  "kernelspec": {
   "display_name": "Python 3 (ipykernel)",
   "language": "python",
   "name": "python3"
  },
  "language_info": {
   "codemirror_mode": {
    "name": "ipython",
    "version": 3
   },
   "file_extension": ".py",
   "mimetype": "text/x-python",
   "name": "python",
   "nbconvert_exporter": "python",
   "pygments_lexer": "ipython3",
   "version": "3.13.2"
  }
 },
 "nbformat": 4,
 "nbformat_minor": 5
}
