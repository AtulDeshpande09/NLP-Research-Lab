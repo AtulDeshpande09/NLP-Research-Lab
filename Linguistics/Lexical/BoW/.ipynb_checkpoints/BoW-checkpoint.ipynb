{
 "cells": [
  {
   "cell_type": "code",
   "execution_count": 7,
   "id": "5d000f39-43c6-4944-a00a-3bb412e51678",
   "metadata": {},
   "outputs": [],
   "source": [
    "def tokenize(text:str)->list:\n",
    "    return text.lower().split()"
   ]
  },
  {
   "cell_type": "code",
   "execution_count": 1,
   "id": "6f608c73-fc7e-473f-8dd7-34e5a01a3bb3",
   "metadata": {},
   "outputs": [],
   "source": [
    "def count_frequency(tokens:list)->list:\n",
    "    \"\"\"\n",
    "    Input -> Tokens List of words\n",
    "    Return -> dictionary - {word:freq}\n",
    "    \"\"\"\n",
    "    freq = {}\n",
    "\n",
    "    for word in tokens:\n",
    "        if word not in freq:\n",
    "            freq[word] = 1\n",
    "        else:\n",
    "            freq[word] += 1\n",
    "\n",
    "    return freq"
   ]
  },
  {
   "cell_type": "code",
   "execution_count": 94,
   "id": "411e2080-acf9-4700-a627-3a0c2e17b6bf",
   "metadata": {},
   "outputs": [],
   "source": [
    "t1 = \"I love NLP\" \n",
    "t2 = \"NLP is amazing\"\n",
    "t3 = \"This is why nlp is my research interest\"\n",
    "texts = [t1,t2,t3]"
   ]
  },
  {
   "cell_type": "code",
   "execution_count": 96,
   "id": "9138429a-b94d-4c35-9d9e-9f4e204ae7e4",
   "metadata": {},
   "outputs": [
    {
     "data": {
      "text/plain": [
       "[['i', 'love', 'nlp'],\n",
       " ['nlp', 'is', 'amazing'],\n",
       " ['this', 'is', 'why', 'nlp', 'is', 'my', 'research', 'interest']]"
      ]
     },
     "execution_count": 96,
     "metadata": {},
     "output_type": "execute_result"
    }
   ],
   "source": [
    "text = []\n",
    "for t in texts :\n",
    "    text.append(tokenize(t))\n",
    "\n",
    "# text is list of tokens - list of list\n",
    "text"
   ]
  },
  {
   "cell_type": "code",
   "execution_count": 101,
   "id": "7e9663c6-d91d-4736-a54f-a4acbfd2a072",
   "metadata": {},
   "outputs": [],
   "source": [
    "def create_doc(text:list)->dict:\n",
    "    \"\"\"\n",
    "    Input --> list of lists\n",
    "    returns -> dict of dict\n",
    "    \"\"\"\n",
    "    docs = {}\n",
    "\n",
    "    # enumerate -> add counter to each token\n",
    "    for i , tokens in enumerate(text):\n",
    "        \n",
    "        freq = count_frequency(tokens)\n",
    "        docs[i] = freq\n",
    "    \n",
    "    return docs"
   ]
  },
  {
   "cell_type": "code",
   "execution_count": 102,
   "id": "98fcd21c-ea4e-43cf-9285-9ef93e3dc28b",
   "metadata": {},
   "outputs": [
    {
     "data": {
      "text/plain": [
       "{0: {'i': 1, 'love': 1, 'nlp': 1},\n",
       " 1: {'nlp': 1, 'is': 1, 'amazing': 1},\n",
       " 2: {'this': 1,\n",
       "  'is': 2,\n",
       "  'why': 1,\n",
       "  'nlp': 1,\n",
       "  'my': 1,\n",
       "  'research': 1,\n",
       "  'interest': 1}}"
      ]
     },
     "execution_count": 102,
     "metadata": {},
     "output_type": "execute_result"
    }
   ],
   "source": [
    "docs = create_doc(tokens)\n",
    "docs"
   ]
  },
  {
   "cell_type": "code",
   "execution_count": 88,
   "id": "cecf1f2a-0561-4411-a367-c4478ffd0d1f",
   "metadata": {},
   "outputs": [],
   "source": [
    "def represent(docs:dict)->dict:\n",
    "    '''\n",
    "    Input --> dict of dict\n",
    "    return -> dict of list\n",
    "    '''\n",
    "\n",
    "    matrix = {\"index\" : [] \n",
    "             }\n",
    "\n",
    "    # docs - dictionary of dictionary\n",
    "    # doc - dictionary { word : frequency }\n",
    "    \n",
    "    for doc in docs :\n",
    "        for word in docs[doc]:\n",
    "            if word not in matrix[\"index\"]:\n",
    "                matrix[\"index\"].append(word)\n",
    "    \n",
    "    for doc in docs :\n",
    "\n",
    "        # Creates List of Zeros for all documents\n",
    "        # We will modify this list later\n",
    "        matrix[f'doc{doc}'] = [0]*(len(matrix['index']))\n",
    "        \n",
    "        for word , frequency in docs[doc].items():\n",
    "            \n",
    "            # Get index of Word\n",
    "            # We can replace Frequency of word at that index - In matrix\n",
    "            index = matrix['index'].index(word)\n",
    "\n",
    "            # Replace\n",
    "            matrix[f'doc{doc}'][index] = frequency\n",
    "\n",
    "\n",
    "    return matrix"
   ]
  },
  {
   "cell_type": "code",
   "execution_count": 89,
   "id": "725a23f6-51a6-42ff-9879-5df2fa9db986",
   "metadata": {},
   "outputs": [
    {
     "data": {
      "text/plain": [
       "{'index': ['i',\n",
       "  'love',\n",
       "  'nlp',\n",
       "  'is',\n",
       "  'amazing',\n",
       "  'this',\n",
       "  'why',\n",
       "  'my',\n",
       "  'research',\n",
       "  'interest'],\n",
       " 'doc0': [1, 1, 1, 0, 0, 0, 0, 0, 0, 0],\n",
       " 'doc1': [0, 0, 1, 1, 1, 0, 0, 0, 0, 0],\n",
       " 'doc2': [0, 0, 1, 2, 0, 1, 1, 1, 1, 1]}"
      ]
     },
     "execution_count": 89,
     "metadata": {},
     "output_type": "execute_result"
    }
   ],
   "source": [
    "matrix = represent(docs)\n",
    "matrix"
   ]
  },
  {
   "cell_type": "code",
   "execution_count": 90,
   "id": "0102267e-f8c1-4be2-b397-54f4ad75651b",
   "metadata": {},
   "outputs": [
    {
     "data": {
      "text/html": [
       "<div>\n",
       "<style scoped>\n",
       "    .dataframe tbody tr th:only-of-type {\n",
       "        vertical-align: middle;\n",
       "    }\n",
       "\n",
       "    .dataframe tbody tr th {\n",
       "        vertical-align: top;\n",
       "    }\n",
       "\n",
       "    .dataframe thead th {\n",
       "        text-align: right;\n",
       "    }\n",
       "</style>\n",
       "<table border=\"1\" class=\"dataframe\">\n",
       "  <thead>\n",
       "    <tr style=\"text-align: right;\">\n",
       "      <th></th>\n",
       "      <th>doc0</th>\n",
       "      <th>doc1</th>\n",
       "      <th>doc2</th>\n",
       "    </tr>\n",
       "    <tr>\n",
       "      <th>index</th>\n",
       "      <th></th>\n",
       "      <th></th>\n",
       "      <th></th>\n",
       "    </tr>\n",
       "  </thead>\n",
       "  <tbody>\n",
       "    <tr>\n",
       "      <th>i</th>\n",
       "      <td>1</td>\n",
       "      <td>0</td>\n",
       "      <td>0</td>\n",
       "    </tr>\n",
       "    <tr>\n",
       "      <th>love</th>\n",
       "      <td>1</td>\n",
       "      <td>0</td>\n",
       "      <td>0</td>\n",
       "    </tr>\n",
       "    <tr>\n",
       "      <th>nlp</th>\n",
       "      <td>1</td>\n",
       "      <td>1</td>\n",
       "      <td>1</td>\n",
       "    </tr>\n",
       "    <tr>\n",
       "      <th>is</th>\n",
       "      <td>0</td>\n",
       "      <td>1</td>\n",
       "      <td>2</td>\n",
       "    </tr>\n",
       "    <tr>\n",
       "      <th>amazing</th>\n",
       "      <td>0</td>\n",
       "      <td>1</td>\n",
       "      <td>0</td>\n",
       "    </tr>\n",
       "    <tr>\n",
       "      <th>this</th>\n",
       "      <td>0</td>\n",
       "      <td>0</td>\n",
       "      <td>1</td>\n",
       "    </tr>\n",
       "    <tr>\n",
       "      <th>why</th>\n",
       "      <td>0</td>\n",
       "      <td>0</td>\n",
       "      <td>1</td>\n",
       "    </tr>\n",
       "    <tr>\n",
       "      <th>my</th>\n",
       "      <td>0</td>\n",
       "      <td>0</td>\n",
       "      <td>1</td>\n",
       "    </tr>\n",
       "    <tr>\n",
       "      <th>research</th>\n",
       "      <td>0</td>\n",
       "      <td>0</td>\n",
       "      <td>1</td>\n",
       "    </tr>\n",
       "    <tr>\n",
       "      <th>interest</th>\n",
       "      <td>0</td>\n",
       "      <td>0</td>\n",
       "      <td>1</td>\n",
       "    </tr>\n",
       "  </tbody>\n",
       "</table>\n",
       "</div>"
      ],
      "text/plain": [
       "          doc0  doc1  doc2\n",
       "index                     \n",
       "i            1     0     0\n",
       "love         1     0     0\n",
       "nlp          1     1     1\n",
       "is           0     1     2\n",
       "amazing      0     1     0\n",
       "this         0     0     1\n",
       "why          0     0     1\n",
       "my           0     0     1\n",
       "research     0     0     1\n",
       "interest     0     0     1"
      ]
     },
     "execution_count": 90,
     "metadata": {},
     "output_type": "execute_result"
    }
   ],
   "source": [
    "import pandas as pd\n",
    "\n",
    "df = pd.DataFrame(matrix,index=None)\n",
    "df.set_index('index' , inplace=True)\n",
    "df"
   ]
  },
  {
   "cell_type": "code",
   "execution_count": null,
   "id": "6205b50f-2bd2-45a4-8046-ddb730ca035a",
   "metadata": {},
   "outputs": [],
   "source": []
  }
 ],
 "metadata": {
  "kernelspec": {
   "display_name": "Python 3 (ipykernel)",
   "language": "python",
   "name": "python3"
  },
  "language_info": {
   "codemirror_mode": {
    "name": "ipython",
    "version": 3
   },
   "file_extension": ".py",
   "mimetype": "text/x-python",
   "name": "python",
   "nbconvert_exporter": "python",
   "pygments_lexer": "ipython3",
   "version": "3.13.2"
  }
 },
 "nbformat": 4,
 "nbformat_minor": 5
}
