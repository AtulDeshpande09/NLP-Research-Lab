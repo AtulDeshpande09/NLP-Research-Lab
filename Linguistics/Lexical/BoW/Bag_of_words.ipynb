{
 "cells": [
  {
   "cell_type": "markdown",
   "id": "1ae4ab82-62d8-4a9f-aa35-98cd661bdc93",
   "metadata": {},
   "source": [
    "#### Sample Text"
   ]
  },
  {
   "cell_type": "code",
   "execution_count": 1,
   "id": "9e258ce2-c2c6-4444-86c3-3aaadaaea58d",
   "metadata": {},
   "outputs": [],
   "source": [
    "t1 = \"I love NLP\" \n",
    "t2 = \"NLP is amazing\"\n",
    "t3 = \"This is why nlp is my research interest\"\n",
    "texts = [t1,t2,t3]"
   ]
  },
  {
   "cell_type": "markdown",
   "id": "e4c6bf8d-b923-4cf6-b71b-4b7542f63e1c",
   "metadata": {},
   "source": [
    "## Bag of Words"
   ]
  },
  {
   "cell_type": "code",
   "execution_count": 2,
   "id": "78deea34-1677-4f46-8094-54c023483c80",
   "metadata": {},
   "outputs": [],
   "source": [
    "from bow import BagofWords"
   ]
  },
  {
   "cell_type": "code",
   "execution_count": 3,
   "id": "b2e9c7b8-6eac-402b-952e-90bb064bd3a1",
   "metadata": {},
   "outputs": [],
   "source": [
    "bag = BagofWords()"
   ]
  },
  {
   "cell_type": "code",
   "execution_count": 4,
   "id": "2a5e040f-ecae-4d29-b18f-771b1f04ab84",
   "metadata": {},
   "outputs": [],
   "source": [
    "bag.bow(texts)"
   ]
  },
  {
   "cell_type": "markdown",
   "id": "520555ca-1248-4d90-80d8-054f7544deda",
   "metadata": {},
   "source": [
    "### DataFrame method"
   ]
  },
  {
   "cell_type": "code",
   "execution_count": 5,
   "id": "93232838-2acd-4102-accf-6026eac5c36b",
   "metadata": {},
   "outputs": [
    {
     "data": {
      "text/html": [
       "<div>\n",
       "<style scoped>\n",
       "    .dataframe tbody tr th:only-of-type {\n",
       "        vertical-align: middle;\n",
       "    }\n",
       "\n",
       "    .dataframe tbody tr th {\n",
       "        vertical-align: top;\n",
       "    }\n",
       "\n",
       "    .dataframe thead th {\n",
       "        text-align: right;\n",
       "    }\n",
       "</style>\n",
       "<table border=\"1\" class=\"dataframe\">\n",
       "  <thead>\n",
       "    <tr style=\"text-align: right;\">\n",
       "      <th></th>\n",
       "      <th>index</th>\n",
       "      <th>doc0</th>\n",
       "      <th>doc1</th>\n",
       "      <th>doc2</th>\n",
       "    </tr>\n",
       "  </thead>\n",
       "  <tbody>\n",
       "    <tr>\n",
       "      <th>0</th>\n",
       "      <td>i</td>\n",
       "      <td>1</td>\n",
       "      <td>0</td>\n",
       "      <td>0</td>\n",
       "    </tr>\n",
       "    <tr>\n",
       "      <th>1</th>\n",
       "      <td>love</td>\n",
       "      <td>1</td>\n",
       "      <td>0</td>\n",
       "      <td>0</td>\n",
       "    </tr>\n",
       "    <tr>\n",
       "      <th>2</th>\n",
       "      <td>nlp</td>\n",
       "      <td>1</td>\n",
       "      <td>1</td>\n",
       "      <td>1</td>\n",
       "    </tr>\n",
       "    <tr>\n",
       "      <th>3</th>\n",
       "      <td>is</td>\n",
       "      <td>0</td>\n",
       "      <td>1</td>\n",
       "      <td>2</td>\n",
       "    </tr>\n",
       "    <tr>\n",
       "      <th>4</th>\n",
       "      <td>amazing</td>\n",
       "      <td>0</td>\n",
       "      <td>1</td>\n",
       "      <td>0</td>\n",
       "    </tr>\n",
       "    <tr>\n",
       "      <th>5</th>\n",
       "      <td>this</td>\n",
       "      <td>0</td>\n",
       "      <td>0</td>\n",
       "      <td>1</td>\n",
       "    </tr>\n",
       "    <tr>\n",
       "      <th>6</th>\n",
       "      <td>why</td>\n",
       "      <td>0</td>\n",
       "      <td>0</td>\n",
       "      <td>1</td>\n",
       "    </tr>\n",
       "    <tr>\n",
       "      <th>7</th>\n",
       "      <td>my</td>\n",
       "      <td>0</td>\n",
       "      <td>0</td>\n",
       "      <td>1</td>\n",
       "    </tr>\n",
       "    <tr>\n",
       "      <th>8</th>\n",
       "      <td>research</td>\n",
       "      <td>0</td>\n",
       "      <td>0</td>\n",
       "      <td>1</td>\n",
       "    </tr>\n",
       "    <tr>\n",
       "      <th>9</th>\n",
       "      <td>interest</td>\n",
       "      <td>0</td>\n",
       "      <td>0</td>\n",
       "      <td>1</td>\n",
       "    </tr>\n",
       "  </tbody>\n",
       "</table>\n",
       "</div>"
      ],
      "text/plain": [
       "      index  doc0  doc1  doc2\n",
       "0         i     1     0     0\n",
       "1      love     1     0     0\n",
       "2       nlp     1     1     1\n",
       "3        is     0     1     2\n",
       "4   amazing     0     1     0\n",
       "5      this     0     0     1\n",
       "6       why     0     0     1\n",
       "7        my     0     0     1\n",
       "8  research     0     0     1\n",
       "9  interest     0     0     1"
      ]
     },
     "execution_count": 5,
     "metadata": {},
     "output_type": "execute_result"
    }
   ],
   "source": [
    "df = bag.to_df()\n",
    "df"
   ]
  },
  {
   "cell_type": "code",
   "execution_count": null,
   "id": "edf42db3-5586-4ae9-a020-d38d171d8e75",
   "metadata": {},
   "outputs": [],
   "source": []
  }
 ],
 "metadata": {
  "kernelspec": {
   "display_name": "Python 3 (ipykernel)",
   "language": "python",
   "name": "python3"
  },
  "language_info": {
   "codemirror_mode": {
    "name": "ipython",
    "version": 3
   },
   "file_extension": ".py",
   "mimetype": "text/x-python",
   "name": "python",
   "nbconvert_exporter": "python",
   "pygments_lexer": "ipython3",
   "version": "3.13.2"
  }
 },
 "nbformat": 4,
 "nbformat_minor": 5
}
