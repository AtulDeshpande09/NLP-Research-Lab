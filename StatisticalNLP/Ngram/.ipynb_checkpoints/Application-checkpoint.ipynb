{
 "cells": [
  {
   "cell_type": "code",
   "execution_count": 1,
   "id": "d6313f5f-7d0c-4d02-b05a-7c7f31abeb34",
   "metadata": {},
   "outputs": [],
   "source": [
    "import json"
   ]
  },
  {
   "cell_type": "code",
   "execution_count": 2,
   "id": "cf99fa9e-7fd6-4a10-a992-12f3ceb0abea",
   "metadata": {},
   "outputs": [],
   "source": [
    "with open(\"sample.json\",\"r\") as file:\n",
    "    data = json.load(file)"
   ]
  },
  {
   "cell_type": "code",
   "execution_count": 3,
   "id": "cbe18e23-fab4-4a98-8983-7b9895b4a179",
   "metadata": {},
   "outputs": [],
   "source": [
    "import ast\n",
    "\n",
    "def load_ngrams():\n",
    "    new_probability = {}\n",
    "    \n",
    "    for key ,value in data.items():\n",
    "        new_key = ast.literal_eval(key)\n",
    "\n",
    "        new_probability[new_key] = value\n",
    "    \n",
    "    return new_probability"
   ]
  },
  {
   "cell_type": "code",
   "execution_count": 4,
   "id": "158163f5-bba1-4b35-9552-45f1dfb56446",
   "metadata": {},
   "outputs": [],
   "source": [
    "new_probability = load_ngrams()"
   ]
  },
  {
   "cell_type": "code",
   "execution_count": 5,
   "id": "8f078124-b2c2-4f79-901a-f645844a55e3",
   "metadata": {},
   "outputs": [],
   "source": [
    "import random"
   ]
  },
  {
   "cell_type": "code",
   "execution_count": 6,
   "id": "0ffd3ef0-17b1-43dd-8a23-9260339c8c93",
   "metadata": {},
   "outputs": [],
   "source": [
    "def predict_next_word(sentence:str):\n",
    "\n",
    "    last_word = tokenize(sentence)[-1]\n",
    "\n",
    "    selected_sequence_list = [(sequence,new_probability[sequence]) for sequence in new_probability if sequence[0]==last_word]\n",
    "    sequence_list = [ p[0] for p in selected_sequence_list]\n",
    "    probability_list = [ p[1] for p in selected_sequence_list]\n",
    "\n",
    "    next_word = random.choices(sequence_list,weights = probability_list)[0][1]\n",
    "    \n",
    "    return next_word\n",
    "    "
   ]
  },
  {
   "cell_type": "code",
   "execution_count": 7,
   "id": "dba9047c-d5a2-43d8-a062-87ca0450e505",
   "metadata": {},
   "outputs": [],
   "source": [
    "def tokenize(text):\n",
    "    text = text.lower()\n",
    "    tokens = text.split(\" \")\n",
    "    pro_tokens = []\n",
    "    for i in tokens:\n",
    "        pro_tokens.append(i.replace('\\n' , \"\"))\n",
    "    return pro_tokens\n"
   ]
  },
  {
   "cell_type": "markdown",
   "id": "0ebbca23-f48a-4f17-bbc0-f442bd8bdd28",
   "metadata": {},
   "source": [
    "#### Predict Next word / Complete the sentence"
   ]
  },
  {
   "cell_type": "code",
   "execution_count": 8,
   "id": "3c53cf1a-b086-4e0c-9432-0a759a72079b",
   "metadata": {},
   "outputs": [],
   "source": [
    "def complete_the_sentence(sentence:str):\n",
    "    word = predict_next_word(sentence)\n",
    "    complete_sentence = sentence+\" \"+word\n",
    "    print(complete_sentence)"
   ]
  },
  {
   "cell_type": "code",
   "execution_count": 9,
   "id": "240f731e-27de-4db6-9e39-f4e28335254e",
   "metadata": {},
   "outputs": [
    {
     "name": "stdout",
     "output_type": "stream",
     "text": [
      "preheat the oven to 350 degrees fahrenheit\n"
     ]
    }
   ],
   "source": [
    "sent = \"preheat the oven to 350 degrees\"\n",
    "\n",
    "complete_the_sentence(sent)"
   ]
  },
  {
   "cell_type": "code",
   "execution_count": null,
   "id": "2fe0a64a-b7fe-4ac7-aa3c-d7bc7131a47d",
   "metadata": {},
   "outputs": [],
   "source": []
  },
  {
   "cell_type": "markdown",
   "id": "6a03259a-8a79-4a75-89dc-0f1cad5e0886",
   "metadata": {},
   "source": [
    "### Generate Sentences"
   ]
  },
  {
   "cell_type": "code",
   "execution_count": 10,
   "id": "2c0d2afc-b472-4e8a-a25c-69802b548c21",
   "metadata": {},
   "outputs": [],
   "source": [
    "def generate_sentences(number_of_sentences : int):\n",
    "    sentence = []\n",
    "    \n",
    "    for _ in range(number_of_sentences) :\n",
    "\n",
    "        word = \"<s>\"\n",
    "        \n",
    "        while word != \"</s>\":\n",
    "            if word == \"</s>\" or word ==\"<s>\":\n",
    "                sentence.append(\".\")\n",
    "                word = predict_next_word(word)\n",
    "            else:\n",
    "                sentence.append(word)\n",
    "                word = predict_next_word(word)\n",
    "    del sentence[0]\n",
    "    response = \" \".join(sentence)\n",
    "    return response"
   ]
  },
  {
   "cell_type": "code",
   "execution_count": 11,
   "id": "88c3afe5-a0e8-4abb-a19a-654e7654f850",
   "metadata": {},
   "outputs": [
    {
     "data": {
      "text/plain": [
       "'preheat the salad ingredients like strawberries or nuts for 30 minutes or ramen</s> . pour the frosting generously over the pizza dough and yogurt for up to remove bitter saponins</s> . pour the flour, sugar, and pepper while cooking . cook oatmeal by combining ketchup, vinegar, sugar, and salt and cilantro</s> . let it rise for 12 minutes before skewering them into cubes; toss with toast, avocado slices, and sugar</s> . serve the chicken broth according to a large skillet over medium-high heat until smooth and yogurt for 12 minutes or mangoes with a bamboo mat</s> . fold in vegetable broth with lime juice and carrots . mix the oven to a pinch of salt in a dusting of chives on a splash of red onions in a bowl . add minced garlic powder</s> . dress the vegetables into bite-sized pieces with olive oil and a sprinkle fresh berries and a pizza stone or grilled chicken over medium heat, stirring occasionally'"
      ]
     },
     "execution_count": 11,
     "metadata": {},
     "output_type": "execute_result"
    }
   ],
   "source": [
    "sentence = generate_sentences(4)\n",
    "sentence"
   ]
  },
  {
   "cell_type": "code",
   "execution_count": null,
   "id": "4f7257fc-f173-4e45-8075-235d005ccfd0",
   "metadata": {},
   "outputs": [],
   "source": []
  }
 ],
 "metadata": {
  "kernelspec": {
   "display_name": "Python 3 (ipykernel)",
   "language": "python",
   "name": "python3"
  },
  "language_info": {
   "codemirror_mode": {
    "name": "ipython",
    "version": 3
   },
   "file_extension": ".py",
   "mimetype": "text/x-python",
   "name": "python",
   "nbconvert_exporter": "python",
   "pygments_lexer": "ipython3",
   "version": "3.13.2"
  }
 },
 "nbformat": 4,
 "nbformat_minor": 5
}
