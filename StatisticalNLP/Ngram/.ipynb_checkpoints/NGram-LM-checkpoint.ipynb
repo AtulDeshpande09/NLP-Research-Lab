{
 "cells": [
  {
   "cell_type": "code",
   "execution_count": 1,
   "id": "8a7ff708-0609-4f8d-96ac-8239522bd65d",
   "metadata": {},
   "outputs": [],
   "source": [
    "text = \"\"\"\n",
    " <s> preheat the oven to 350 degrees fahrenheit </s>\n",
    " <s> mix the flour, sugar, and baking powder in a large bowl </s>\n",
    " <s> add the eggs and milk to the mixture and stir well until smooth </s>\n",
    " <s> pour the batter evenly into a greased 9-inch baking pan </s>\n",
    " <s> bake for 30 minutes or until a toothpick comes out clean </s>\n",
    " <s> let the cake cool in the pan for 10 minutes before removing it </s>\n",
    " <s> spread the frosting generously over the cooled cake </s>\n",
    " <s> serve with fresh berries and a dusting of powdered sugar on top </s>\n",
    " <s> chop the vegetables into small, even-sized pieces for uniform cooking </s>\n",
    " <s> heat olive oil in a large skillet over medium heat until shimmering </s>\n",
    " <s> sauté the onions in the hot oil until they are translucent and fragrant </s>\n",
    " <s> add minced garlic and cook for another minute until aromatic </s>\n",
    " <s> stir in the diced tomatoes and simmer for 15 minutes, stirring occasionally </s>\n",
    " <s> season with salt, freshly ground black pepper, and chopped fresh basil leaves to taste </s>\n",
    " <s> cook the pasta according to package instructions until al dente </s>\n",
    " <s> drain the pasta thoroughly and toss it with the prepared sauce </s>\n",
    " <s> garnish with grated parmesan cheese and a sprinkle of red pepper flakes before serving </s>\n",
    " <s> marinate the chicken in a mixture of lemon juice, herbs, and olive oil for at least an hour </s>\n",
    " <s> grill the chicken over medium heat until it is cooked through and no longer pink inside </s>\n",
    " <s> serve the grilled chicken with a side of roasted vegetables, such as broccoli and carrots </s>\n",
    " <s> prepare a fresh salad with mixed greens, cherry tomatoes, cucumbers, and red onions </s>\n",
    " <s> dress the salad with a simple vinaigrette made from olive oil and balsamic vinegar </s>\n",
    " <s> bake cookies on a parchment-lined baking sheet for 12 minutes until they are golden brown around the edges </s>\n",
    " <s> let the cookies cool completely on a wire rack before serving or storing </s>\n",
    " <s> blend spinach, avocado, banana, and yogurt for a nutritious and healthy smoothie </s>\n",
    " <s> add honey to taste for sweetness and blend again until smooth and creamy in your smoothie </s>\n",
    " <s> slice bread and toast it until golden brown and slightly crispy </s>\n",
    " <s> spread butter on the warm toast and add jam or your favorite toppings if desired </s>\n",
    "\n",
    " <s> whisk eggs with a splash of milk and a pinch of salt and pepper in a bowl </s>\n",
    " <s> pour the egg mixture into a preheated non-stick skillet over medium heat </s>\n",
    " <s> cook the eggs over medium heat, stirring gently until set but still slightly moist </s>\n",
    " <s> serve scrambled eggs with toast, avocado slices, and a sprinkle of chives on top </s>\n",
    " <s> prepare homemade pizza dough by combining flour, yeast, water, and olive oil in a bowl </s>\n",
    " <s> knead the dough until smooth and elastic, then let it rise for an hour in a warm place </s>\n",
    " <s> roll out the pizza dough on a floured surface and transfer it to a pizza stone or baking sheet </s>\n",
    " <s> spread tomato sauce evenly over the dough and add your favorite toppings such as pepperoni or mushrooms</s>\n",
    " <s> bake the pizza in a preheated oven at 475 degrees until the crust is golden brown and cheese is bubbly</s>\n",
    " <s> slice the pizza into wedges and serve hot with crushed red pepper flakes on top</s>\n",
    " <s> prepare sushi rice by rinsing short-grain rice under cold water until water runs clear</s>\n",
    " <s> cook sushi rice with water in a rice cooker or pot according to package instructions</s>\n",
    " <s> mix rice vinegar, sugar, and salt in a small bowl until dissolved</s>\n",
    " <s> once rice is cooked, gently fold in vinegar mixture while fanning rice to cool</s>\n",
    " <s> spread sushi rice evenly over nori sheets</s>\n",
    " <s> add fillings such as avocado, cucumber sticks, crab meat or cooked shrimp</s>\n",
    " <s> roll sushi tightly using a bamboo mat</s>\n",
    " <s> slice sushi rolls into bite-sized pieces with a sharp knife</s>\n",
    "\n",
    " <s> boil water in a pot and add dried noodles such as spaghetti or ramen</s>\n",
    " <s> cook noodles according to package instructions until tender but firm</s>\n",
    " <s> drain noodles in a colander and rinse under cold water to stop cooking process</s>\n",
    " <s> stir-fry vegetables such as broccoli, bell peppers, carrots, snow peas in hot oil</s>\n",
    " <s> add cooked noodles to stir-fried vegetables along with soy sauce or teriyaki sauce</s>\n",
    "\n",
    " <s> prepare fruit salad by combining strawberries, blueberries, bananas, kiwi slices</s>\n",
    " <s> dress fruit salad with honey-lime dressing made from honey mixed with lime juice</s>\n",
    "\n",
    " <s> toast nuts such as almonds or walnuts in an oven at 350 degrees for about 10 minutes</s>\n",
    " <s> let toasted nuts cool before chopping coarsely for salads or snacks</s>\n",
    "\n",
    " <s> make homemade ranch dressing by mixing buttermilk, mayonnaise, garlic powder</s>\n",
    " <s> store ranch dressing in refrigerator for up to one week</s>\n",
    "\n",
    " <s> prepare chocolate chip cookie dough by creaming butter with sugars then adding eggs</s>\n",
    " <s> fold in chocolate chips before scooping onto baking sheets lined with parchment paper</s>\n",
    "\n",
    " <s> sauté sliced mushrooms in butter over medium-high heat until golden brown</s>\n",
    " <s> season mushrooms with salt and pepper while cooking for added flavor</s>\n",
    "\n",
    " <s> rinse quinoa under cold water before cooking to remove bitter saponins</s>\n",
    "\n",
    " <s> cook quinoa in vegetable broth according to package directions for added flavor</s>\n",
    "\n",
    " <s> blend oats with milk or yogurt to make overnight oats; refrigerate overnight</s>\n",
    "\n",
    " <s> prepare banana bread by mashing ripe bananas then mixing them with flour and sugar</s>\n",
    "\n",
    " <s> simmer chicken broth with diced vegetables such as carrots, celery, onions for soup base</s>\n",
    "\n",
    " <s> make guacamole by mashing ripe avocados then mixing them with lime juice and cilantro</s>\n",
    "\n",
    " <s> poach eggs by cracking them into simmering water; cook until whites are set but yolks remain runny</s>\n",
    "\n",
    " <s> marinate shrimp in garlic butter before skewering them onto skewers for grilling</s>\n",
    "\n",
    " <s> sprinkle fresh herbs like parsley or cilantro over dishes just before serving for added freshness.</s>\n",
    "\n",
    " <s> cook oatmeal by boiling water then adding rolled oats; simmer until thickened.</s>\n",
    " <s> top oatmeal with sliced bananas, honey, or nuts for extra flavor.</s>\n",
    "\n",
    " <s> blend frozen fruits like strawberries or mangoes with yogurt for refreshing smoothies.</s>\n",
    "\n",
    " <s> prepare sourdough starter by mixing flour and water; let it ferment overnight.</s>\n",
    "\n",
    " <s> create barbecue sauce by combining ketchup, vinegar, brown sugar, Worcestershire sauce.</s>\n",
    "\n",
    " <S> roast sweet potatoes by cutting them into cubes; toss with olive oil before baking.</S>\n",
    " <S> steam green beans until tender-crisp; season with salt and lemon juice.</S>\n",
    "\n",
    " <S> combine quinoa salad ingredients like black beans, corn, diced peppers; dress lightly.</S>\n",
    " <S> whip up Caesar dressing using anchovies, garlic paste; toss with romaine lettuce.</S>\n",
    "\n",
    " <S> layer lasagna noodles between ricotta cheese mixture; bake until bubbly.</S>\n",
    " <S> prepare shepherd's pie using ground meat topped with mashed potatoes; bake until golden.</S>\n",
    "\n",
    " <S> make tacos using corn tortillas filled with seasoned beef or grilled vegetables.</S>\n",
    " <S> prepare curry by simmering meat or vegetables in coconut milk; serve over rice.</S>\n",
    "\n",
    "\"\"\""
   ]
  },
  {
   "cell_type": "code",
   "execution_count": 2,
   "id": "b44f02c0-243f-4b68-b480-6590daf1e9a7",
   "metadata": {},
   "outputs": [],
   "source": [
    "def tokenize(text):\n",
    "    text = text.lower()\n",
    "    tokens = text.split(\" \")\n",
    "    pro_tokens = []\n",
    "    for i in tokens:\n",
    "        pro_tokens.append(i.replace('\\n' , \"\"))\n",
    "    return pro_tokens\n"
   ]
  },
  {
   "cell_type": "code",
   "execution_count": 3,
   "id": "4786f86e-ac67-47e9-ba72-a62c867385b9",
   "metadata": {},
   "outputs": [
    {
     "name": "stdout",
     "output_type": "stream",
     "text": [
      "1181\n"
     ]
    }
   ],
   "source": [
    "def bigrams(tokens):\n",
    "    bigrams = []\n",
    "    for i in range(len(tokens)-1):\n",
    "        \n",
    "        bigrams.append((tokens[i] , tokens[i+1]))\n",
    "    return bigrams\n",
    "tokens = tokenize(text)\n",
    "\n",
    "ngrams = bigrams(tokens)\n",
    "\n",
    "print(len(ngrams))"
   ]
  },
  {
   "cell_type": "code",
   "execution_count": 4,
   "id": "6e0a3dff-7f3b-4385-977a-919006fe7b79",
   "metadata": {},
   "outputs": [],
   "source": [
    "def count_previous_word(ngrams):\n",
    "    total_count = {}\n",
    "    for i in ngrams:\n",
    "\n",
    "        if i[0] not in total_count:\n",
    "            total_count[i[0]] = 1    \n",
    "        else :\n",
    "            total_count[i[0]] += 1\n",
    "\n",
    "    return total_count"
   ]
  },
  {
   "cell_type": "code",
   "execution_count": 5,
   "id": "2cf64835-9413-433a-a6dd-42fa2dc4308d",
   "metadata": {},
   "outputs": [],
   "source": [
    "previous_word_count = count_previous_word(ngrams)"
   ]
  },
  {
   "cell_type": "code",
   "execution_count": 6,
   "id": "30a8c27d-7091-4177-97a3-f4e3c58cfe26",
   "metadata": {},
   "outputs": [],
   "source": [
    "def count_n_sequence(ngrams):\n",
    "    \n",
    "    total_count = {}\n",
    "    \n",
    "    for i in ngrams:\n",
    "\n",
    "        if i not in total_count:\n",
    "            total_count[i] = 1\n",
    "        else :\n",
    "            total_count[i] += 1\n",
    "\n",
    "    return total_count"
   ]
  },
  {
   "cell_type": "code",
   "execution_count": 7,
   "id": "42a5e547-e571-42ea-ae5d-50e2a1a7ec7e",
   "metadata": {},
   "outputs": [
    {
     "name": "stdout",
     "output_type": "stream",
     "text": [
      "{('', '<s>'): 1, ('<s>', 'preheat'): 1, ('preheat', 'the'): 1, ('the', 'oven'): 1, ('oven', 'to'): 1, ('to', '350'): 1, ('350', 'degrees'): 2, ('degrees', 'fahrenheit'): 1, ('fahrenheit', '</s>'): 1, ('</s>', '<s>'): 35, ('<s>', 'mix'): 2, ('mix', 'the'): 1, ('the', 'flour,'): 1, ('flour,', 'sugar,'): 1, ('sugar,', 'and'): 2, ('and', 'baking'): 1, ('baking', 'powder'): 1, ('powder', 'in'): 1, ('in', 'a'): 11, ('a', 'large'): 2, ('large', 'bowl'): 1, ('bowl', '</s>'): 3, ('<s>', 'add'): 5, ('add', 'the'): 1, ('the', 'eggs'): 2, ('eggs', 'and'): 1, ('and', 'milk'): 1, ('milk', 'to'): 1, ('to', 'the'): 1, ('the', 'mixture'): 1, ('mixture', 'and'): 1, ('and', 'stir'): 1, ('stir', 'well'): 1, ('well', 'until'): 1, ('until', 'smooth'): 3, ('smooth', '</s>'): 1, ('<s>', 'pour'): 2, ('pour', 'the'): 2, ('the', 'batter'): 1, ('batter', 'evenly'): 1, ('evenly', 'into'): 1, ('into', 'a'): 2, ('a', 'greased'): 1, ('greased', '9-inch'): 1, ('9-inch', 'baking'): 1, ('baking', 'pan'): 1, ('pan', '</s>'): 1, ('<s>', 'bake'): 3, ('bake', 'for'): 1, ('for', '30'): 1, ('30', 'minutes'): 1, ('minutes', 'or'): 1, ('or', 'until'): 1, ('until', 'a'): 1, ('a', 'toothpick'): 1, ('toothpick', 'comes'): 1, ('comes', 'out'): 1, ('out', 'clean'): 1, ('clean', '</s>'): 1, ('<s>', 'let'): 3, ('let', 'the'): 2, ('the', 'cake'): 1, ('cake', 'cool'): 1, ('cool', 'in'): 1, ('in', 'the'): 3, ('the', 'pan'): 1, ('pan', 'for'): 1, ('for', '10'): 1, ('10', 'minutes'): 1, ('minutes', 'before'): 1, ('before', 'removing'): 1, ('removing', 'it'): 1, ('it', '</s>'): 1, ('<s>', 'spread'): 4, ('spread', 'the'): 1, ('the', 'frosting'): 1, ('frosting', 'generously'): 1, ('generously', 'over'): 1, ('over', 'the'): 2, ('the', 'cooled'): 1, ('cooled', 'cake'): 1, ('cake', '</s>'): 1, ('<s>', 'serve'): 3, ('serve', 'with'): 1, ('with', 'fresh'): 1, ('fresh', 'berries'): 1, ('berries', 'and'): 1, ('and', 'a'): 4, ('a', 'dusting'): 1, ('dusting', 'of'): 1, ('of', 'powdered'): 1, ('powdered', 'sugar'): 1, ('sugar', 'on'): 1, ('on', 'top'): 2, ('top', '</s>'): 2, ('<s>', 'chop'): 1, ('chop', 'the'): 1, ('the', 'vegetables'): 1, ('vegetables', 'into'): 1, ('into', 'small,'): 1, ('small,', 'even-sized'): 1, ('even-sized', 'pieces'): 1, ('pieces', 'for'): 1, ('for', 'uniform'): 1, ('uniform', 'cooking'): 1, ('cooking', '</s>'): 1, ('<s>', 'heat'): 1, ('heat', 'olive'): 1, ('olive', 'oil'): 5, ('oil', 'in'): 2, ('large', 'skillet'): 1, ('skillet', 'over'): 2, ('over', 'medium'): 4, ('medium', 'heat'): 3, ('heat', 'until'): 3, ('until', 'shimmering'): 1, ('shimmering', '</s>'): 1, ('<s>', 'sauté'): 2, ('sauté', 'the'): 1, ('the', 'onions'): 1, ('onions', 'in'): 1, ('the', 'hot'): 1, ('hot', 'oil'): 1, ('oil', 'until'): 1, ('until', 'they'): 2, ('they', 'are'): 2, ('are', 'translucent'): 1, ('translucent', 'and'): 1, ('and', 'fragrant'): 1, ('fragrant', '</s>'): 1, ('add', 'minced'): 1, ('minced', 'garlic'): 1, ('garlic', 'and'): 1, ('and', 'cook'): 1, ('cook', 'for'): 1, ('for', 'another'): 1, ('another', 'minute'): 1, ('minute', 'until'): 1, ('until', 'aromatic'): 1, ('aromatic', '</s>'): 1, ('<s>', 'stir'): 1, ('stir', 'in'): 1, ('the', 'diced'): 1, ('diced', 'tomatoes'): 1, ('tomatoes', 'and'): 1, ('and', 'simmer'): 1, ('simmer', 'for'): 1, ('for', '15'): 1, ('15', 'minutes,'): 1, ('minutes,', 'stirring'): 1, ('stirring', 'occasionally'): 1, ('occasionally', '</s>'): 1, ('<s>', 'season'): 2, ('season', 'with'): 2, ('with', 'salt,'): 1, ('salt,', 'freshly'): 1, ('freshly', 'ground'): 1, ('ground', 'black'): 1, ('black', 'pepper,'): 1, ('pepper,', 'and'): 1, ('and', 'chopped'): 1, ('chopped', 'fresh'): 1, ('fresh', 'basil'): 1, ('basil', 'leaves'): 1, ('leaves', 'to'): 1, ('to', 'taste'): 2, ('taste', '</s>'): 1, ('<s>', 'cook'): 6, ('cook', 'the'): 2, ('the', 'pasta'): 2, ('pasta', 'according'): 1, ('according', 'to'): 4, ('to', 'package'): 4, ('package', 'instructions'): 2, ('instructions', 'until'): 2, ('until', 'al'): 1, ('al', 'dente'): 1, ('dente', '</s>'): 1, ('<s>', 'drain'): 2, ('drain', 'the'): 1, ('pasta', 'thoroughly'): 1, ('thoroughly', 'and'): 1, ('and', 'toss'): 1, ('toss', 'it'): 1, ('it', 'with'): 1, ('with', 'the'): 1, ('the', 'prepared'): 1, ('prepared', 'sauce'): 1, ('sauce', '</s>'): 1, ('<s>', 'garnish'): 1, ('garnish', 'with'): 1, ('with', 'grated'): 1, ('grated', 'parmesan'): 1, ('parmesan', 'cheese'): 1, ('cheese', 'and'): 1, ('a', 'sprinkle'): 2, ('sprinkle', 'of'): 2, ('of', 'red'): 1, ('red', 'pepper'): 2, ('pepper', 'flakes'): 2, ('flakes', 'before'): 1, ('before', 'serving'): 3, ('serving', '</s>'): 1, ('<s>', 'marinate'): 2, ('marinate', 'the'): 1, ('the', 'chicken'): 2, ('chicken', 'in'): 1, ('a', 'mixture'): 1, ('mixture', 'of'): 1, ('of', 'lemon'): 1, ('lemon', 'juice,'): 1, ('juice,', 'herbs,'): 1, ('herbs,', 'and'): 1, ('and', 'olive'): 2, ('oil', 'for'): 1, ('for', 'at'): 1, ('at', 'least'): 1, ('least', 'an'): 1, ('an', 'hour'): 2, ('hour', '</s>'): 1, ('<s>', 'grill'): 1, ('grill', 'the'): 1, ('chicken', 'over'): 1, ('until', 'it'): 1, ('it', 'is'): 1, ('is', 'cooked'): 1, ('cooked', 'through'): 1, ('through', 'and'): 1, ('and', 'no'): 1, ('no', 'longer'): 1, ('longer', 'pink'): 1, ('pink', 'inside'): 1, ('inside', '</s>'): 1, ('serve', 'the'): 1, ('the', 'grilled'): 1, ('grilled', 'chicken'): 1, ('chicken', 'with'): 1, ('with', 'a'): 4, ('a', 'side'): 1, ('side', 'of'): 1, ('of', 'roasted'): 1, ('roasted', 'vegetables,'): 1, ('vegetables,', 'such'): 1, ('such', 'as'): 7, ('as', 'broccoli'): 1, ('broccoli', 'and'): 1, ('and', 'carrots'): 1, ('carrots', '</s>'): 1, ('<s>', 'prepare'): 9, ('prepare', 'a'): 1, ('a', 'fresh'): 1, ('fresh', 'salad'): 1, ('salad', 'with'): 3, ('with', 'mixed'): 1, ('mixed', 'greens,'): 1, ('greens,', 'cherry'): 1, ('cherry', 'tomatoes,'): 1, ('tomatoes,', 'cucumbers,'): 1, ('cucumbers,', 'and'): 1, ('and', 'red'): 1, ('red', 'onions'): 1, ('onions', '</s>'): 1, ('<s>', 'dress'): 2, ('dress', 'the'): 1, ('the', 'salad'): 1, ('a', 'simple'): 1, ('simple', 'vinaigrette'): 1, ('vinaigrette', 'made'): 1, ('made', 'from'): 2, ('from', 'olive'): 1, ('oil', 'and'): 1, ('and', 'balsamic'): 1, ('balsamic', 'vinegar'): 1, ('vinegar', '</s>'): 1, ('bake', 'cookies'): 1, ('cookies', 'on'): 1, ('on', 'a'): 3, ('a', 'parchment-lined'): 1, ('parchment-lined', 'baking'): 1, ('baking', 'sheet'): 2, ('sheet', 'for'): 1, ('for', '12'): 1, ('12', 'minutes'): 1, ('minutes', 'until'): 1, ('are', 'golden'): 1, ('golden', 'brown'): 3, ('brown', 'around'): 1, ('around', 'the'): 1, ('the', 'edges'): 1, ('edges', '</s>'): 1, ('the', 'cookies'): 1, ('cookies', 'cool'): 1, ('cool', 'completely'): 1, ('completely', 'on'): 1, ('a', 'wire'): 1, ('wire', 'rack'): 1, ('rack', 'before'): 1, ('serving', 'or'): 1, ('or', 'storing'): 1, ('storing', '</s>'): 1, ('<s>', 'blend'): 3, ('blend', 'spinach,'): 1, ('spinach,', 'avocado,'): 1, ('avocado,', 'banana,'): 1, ('banana,', 'and'): 1, ('and', 'yogurt'): 1, ('yogurt', 'for'): 2, ('for', 'a'): 1, ('a', 'nutritious'): 1, ('nutritious', 'and'): 1, ('and', 'healthy'): 1, ('healthy', 'smoothie'): 1, ('smoothie', '</s>'): 2, ('add', 'honey'): 1, ('honey', 'to'): 1, ('taste', 'for'): 1, ('for', 'sweetness'): 1, ('sweetness', 'and'): 1, ('and', 'blend'): 1, ('blend', 'again'): 1, ('again', 'until'): 1, ('smooth', 'and'): 2, ('and', 'creamy'): 1, ('creamy', 'in'): 1, ('in', 'your'): 1, ('your', 'smoothie'): 1, ('<s>', 'slice'): 3, ('slice', 'bread'): 1, ('bread', 'and'): 1, ('and', 'toast'): 1, ('toast', 'it'): 1, ('it', 'until'): 1, ('until', 'golden'): 2, ('brown', 'and'): 2, ('and', 'slightly'): 1, ('slightly', 'crispy'): 1, ('crispy', '</s>'): 1, ('spread', 'butter'): 1, ('butter', 'on'): 1, ('on', 'the'): 1, ('the', 'warm'): 1, ('warm', 'toast'): 1, ('toast', 'and'): 1, ('and', 'add'): 3, ('add', 'jam'): 1, ('jam', 'or'): 1, ('or', 'your'): 1, ('your', 'favorite'): 2, ('favorite', 'toppings'): 2, ('toppings', 'if'): 1, ('if', 'desired'): 1, ('desired', '</s>'): 1, ('<s>', 'whisk'): 1, ('whisk', 'eggs'): 1, ('eggs', 'with'): 2, ('a', 'splash'): 1, ('splash', 'of'): 1, ('of', 'milk'): 1, ('milk', 'and'): 1, ('a', 'pinch'): 1, ('pinch', 'of'): 1, ('of', 'salt'): 1, ('salt', 'and'): 3, ('and', 'pepper'): 2, ('pepper', 'in'): 1, ('a', 'bowl'): 2, ('the', 'egg'): 1, ('egg', 'mixture'): 1, ('mixture', 'into'): 1, ('a', 'preheated'): 2, ('preheated', 'non-stick'): 1, ('non-stick', 'skillet'): 1, ('heat', '</s>'): 1, ('eggs', 'over'): 1, ('medium', 'heat,'): 1, ('heat,', 'stirring'): 1, ('stirring', 'gently'): 1, ('gently', 'until'): 1, ('until', 'set'): 1, ('set', 'but'): 2, ('but', 'still'): 1, ('still', 'slightly'): 1, ('slightly', 'moist'): 1, ('moist', '</s>'): 1, ('serve', 'scrambled'): 1, ('scrambled', 'eggs'): 1, ('with', 'toast,'): 1, ('toast,', 'avocado'): 1, ('avocado', 'slices,'): 1, ('slices,', 'and'): 1, ('of', 'chives'): 1, ('chives', 'on'): 1, ('prepare', 'homemade'): 1, ('homemade', 'pizza'): 1, ('pizza', 'dough'): 2, ('dough', 'by'): 2, ('by', 'combining'): 3, ('combining', 'flour,'): 1, ('flour,', 'yeast,'): 1, ('yeast,', 'water,'): 1, ('water,', 'and'): 1, ('<s>', 'knead'): 1, ('knead', 'the'): 1, ('the', 'dough'): 2, ('dough', 'until'): 1, ('and', 'elastic,'): 1, ('elastic,', 'then'): 1, ('then', 'let'): 1, ('let', 'it'): 2, ('it', 'rise'): 1, ('rise', 'for'): 1, ('for', 'an'): 1, ('hour', 'in'): 1, ('a', 'warm'): 1, ('warm', 'place'): 1, ('place', '</s>'): 1, ('<s>', 'roll'): 2, ('roll', 'out'): 1, ('out', 'the'): 1, ('the', 'pizza'): 3, ('dough', 'on'): 1, ('a', 'floured'): 1, ('floured', 'surface'): 1, ('surface', 'and'): 1, ('and', 'transfer'): 1, ('transfer', 'it'): 1, ('it', 'to'): 1, ('to', 'a'): 1, ('a', 'pizza'): 1, ('pizza', 'stone'): 1, ('stone', 'or'): 1, ('or', 'baking'): 1, ('sheet', '</s>'): 1, ('spread', 'tomato'): 1, ('tomato', 'sauce'): 1, ('sauce', 'evenly'): 1, ('evenly', 'over'): 2, ('dough', 'and'): 1, ('add', 'your'): 1, ('toppings', 'such'): 1, ('as', 'pepperoni'): 1, ('pepperoni', 'or'): 1, ('or', 'mushrooms</s>'): 1, ('mushrooms</s>', '<s>'): 1, ('bake', 'the'): 1, ('pizza', 'in'): 1, ('preheated', 'oven'): 1, ('oven', 'at'): 2, ('at', '475'): 1, ('475', 'degrees'): 1, ('degrees', 'until'): 1, ('until', 'the'): 1, ('the', 'crust'): 1, ('crust', 'is'): 1, ('is', 'golden'): 1, ('and', 'cheese'): 1, ('cheese', 'is'): 1, ('is', 'bubbly</s>'): 1, ('bubbly</s>', '<s>'): 1, ('slice', 'the'): 1, ('pizza', 'into'): 1, ('into', 'wedges'): 1, ('wedges', 'and'): 1, ('and', 'serve'): 1, ('serve', 'hot'): 1, ('hot', 'with'): 1, ('with', 'crushed'): 1, ('crushed', 'red'): 1, ('flakes', 'on'): 1, ('on', 'top</s>'): 1, ('top</s>', '<s>'): 1, ('prepare', 'sushi'): 1, ('sushi', 'rice'): 3, ('rice', 'by'): 1, ('by', 'rinsing'): 1, ('rinsing', 'short-grain'): 1, ('short-grain', 'rice'): 1, ('rice', 'under'): 1, ('under', 'cold'): 3, ('cold', 'water'): 3, ('water', 'until'): 1, ('until', 'water'): 1, ('water', 'runs'): 1, ('runs', 'clear</s>'): 1, ('clear</s>', '<s>'): 1, ('cook', 'sushi'): 1, ('rice', 'with'): 1, ('with', 'water'): 1, ('water', 'in'): 2, ('a', 'rice'): 1, ('rice', 'cooker'): 1, ('cooker', 'or'): 1, ('or', 'pot'): 1, ('pot', 'according'): 1, ('package', 'instructions</s>'): 1, ('instructions</s>', '<s>'): 1, ('mix', 'rice'): 1, ('rice', 'vinegar,'): 1, ('vinegar,', 'sugar,'): 1, ('and', 'salt'): 1, ('salt', 'in'): 1, ('a', 'small'): 1, ('small', 'bowl'): 1, ('bowl', 'until'): 1, ('until', 'dissolved</s>'): 1, ('dissolved</s>', '<s>'): 1, ('<s>', 'once'): 1, ('once', 'rice'): 1, ('rice', 'is'): 1, ('is', 'cooked,'): 1, ('cooked,', 'gently'): 1, ('gently', 'fold'): 1, ('fold', 'in'): 2, ('in', 'vinegar'): 1, ('vinegar', 'mixture'): 1, ('mixture', 'while'): 1, ('while', 'fanning'): 1, ('fanning', 'rice'): 1, ('rice', 'to'): 1, ('to', 'cool</s>'): 1, ('cool</s>', '<s>'): 1, ('spread', 'sushi'): 1, ('rice', 'evenly'): 1, ('over', 'nori'): 1, ('nori', 'sheets</s>'): 1, ('sheets</s>', '<s>'): 1, ('add', 'fillings'): 1, ('fillings', 'such'): 1, ('as', 'avocado,'): 1, ('avocado,', 'cucumber'): 1, ('cucumber', 'sticks,'): 1, ('sticks,', 'crab'): 1, ('crab', 'meat'): 1, ('meat', 'or'): 2, ('or', 'cooked'): 1, ('cooked', 'shrimp</s>'): 1, ('shrimp</s>', '<s>'): 1, ('roll', 'sushi'): 1, ('sushi', 'tightly'): 1, ('tightly', 'using'): 1, ('using', 'a'): 1, ('a', 'bamboo'): 1, ('bamboo', 'mat</s>'): 1, ('mat</s>', '<s>'): 1, ('slice', 'sushi'): 1, ('sushi', 'rolls'): 1, ('rolls', 'into'): 1, ('into', 'bite-sized'): 1, ('bite-sized', 'pieces'): 1, ('pieces', 'with'): 1, ('a', 'sharp'): 1, ('sharp', 'knife</s>'): 1, ('knife</s>', '<s>'): 1, ('<s>', 'boil'): 1, ('boil', 'water'): 1, ('a', 'pot'): 1, ('pot', 'and'): 1, ('add', 'dried'): 1, ('dried', 'noodles'): 1, ('noodles', 'such'): 1, ('as', 'spaghetti'): 1, ('spaghetti', 'or'): 1, ('or', 'ramen</s>'): 1, ('ramen</s>', '<s>'): 1, ('cook', 'noodles'): 1, ('noodles', 'according'): 1, ('until', 'tender'): 1, ('tender', 'but'): 1, ('but', 'firm</s>'): 1, ('firm</s>', '<s>'): 1, ('drain', 'noodles'): 1, ('noodles', 'in'): 1, ('a', 'colander'): 1, ('colander', 'and'): 1, ('and', 'rinse'): 1, ('rinse', 'under'): 1, ('water', 'to'): 1, ('to', 'stop'): 1, ('stop', 'cooking'): 1, ('cooking', 'process</s>'): 1, ('process</s>', '<s>'): 1, ('<s>', 'stir-fry'): 1, ('stir-fry', 'vegetables'): 1, ('vegetables', 'such'): 2, ('as', 'broccoli,'): 1, ('broccoli,', 'bell'): 1, ('bell', 'peppers,'): 1, ('peppers,', 'carrots,'): 1, ('carrots,', 'snow'): 1, ('snow', 'peas'): 1, ('peas', 'in'): 1, ('in', 'hot'): 1, ('hot', 'oil</s>'): 1, ('oil</s>', '<s>'): 1, ('add', 'cooked'): 1, ('cooked', 'noodles'): 1, ('noodles', 'to'): 1, ('to', 'stir-fried'): 1, ('stir-fried', 'vegetables'): 1, ('vegetables', 'along'): 1, ('along', 'with'): 1, ('with', 'soy'): 1, ('soy', 'sauce'): 1, ('sauce', 'or'): 1, ('or', 'teriyaki'): 1, ('teriyaki', 'sauce</s>'): 1, ('sauce</s>', '<s>'): 1, ('prepare', 'fruit'): 1, ('fruit', 'salad'): 2, ('salad', 'by'): 1, ('combining', 'strawberries,'): 1, ('strawberries,', 'blueberries,'): 1, ('blueberries,', 'bananas,'): 1, ('bananas,', 'kiwi'): 1, ('kiwi', 'slices</s>'): 1, ('slices</s>', '<s>'): 1, ('dress', 'fruit'): 1, ('with', 'honey-lime'): 1, ('honey-lime', 'dressing'): 1, ('dressing', 'made'): 1, ('from', 'honey'): 1, ('honey', 'mixed'): 1, ('mixed', 'with'): 1, ('with', 'lime'): 2, ('lime', 'juice</s>'): 1, ('juice</s>', '<s>'): 1, ('<s>', 'toast'): 1, ('toast', 'nuts'): 1, ('nuts', 'such'): 1, ('as', 'almonds'): 1, ('almonds', 'or'): 1, ('or', 'walnuts'): 1, ('walnuts', 'in'): 1, ('in', 'an'): 1, ('an', 'oven'): 1, ('at', '350'): 1, ('degrees', 'for'): 1, ('for', 'about'): 1, ('about', '10'): 1, ('10', 'minutes</s>'): 1, ('minutes</s>', '<s>'): 1, ('let', 'toasted'): 1, ('toasted', 'nuts'): 1, ('nuts', 'cool'): 1, ('cool', 'before'): 1, ('before', 'chopping'): 1, ('chopping', 'coarsely'): 1, ('coarsely', 'for'): 1, ('for', 'salads'): 1, ('salads', 'or'): 1, ('or', 'snacks</s>'): 1, ('snacks</s>', '<s>'): 1, ('<s>', 'make'): 3, ('make', 'homemade'): 1, ('homemade', 'ranch'): 1, ('ranch', 'dressing'): 2, ('dressing', 'by'): 1, ('by', 'mixing'): 2, ('mixing', 'buttermilk,'): 1, ('buttermilk,', 'mayonnaise,'): 1, ('mayonnaise,', 'garlic'): 1, ('garlic', 'powder</s>'): 1, ('powder</s>', '<s>'): 1, ('<s>', 'store'): 1, ('store', 'ranch'): 1, ('dressing', 'in'): 1, ('in', 'refrigerator'): 1, ('refrigerator', 'for'): 1, ('for', 'up'): 1, ('up', 'to'): 1, ('to', 'one'): 1, ('one', 'week</s>'): 1, ('week</s>', '<s>'): 1, ('prepare', 'chocolate'): 1, ('chocolate', 'chip'): 1, ('chip', 'cookie'): 1, ('cookie', 'dough'): 1, ('by', 'creaming'): 1, ('creaming', 'butter'): 1, ('butter', 'with'): 1, ('with', 'sugars'): 1, ('sugars', 'then'): 1, ('then', 'adding'): 2, ('adding', 'eggs</s>'): 1, ('eggs</s>', '<s>'): 1, ('<s>', 'fold'): 1, ('in', 'chocolate'): 1, ('chocolate', 'chips'): 1, ('chips', 'before'): 1, ('before', 'scooping'): 1, ('scooping', 'onto'): 1, ('onto', 'baking'): 1, ('baking', 'sheets'): 1, ('sheets', 'lined'): 1, ('lined', 'with'): 1, ('with', 'parchment'): 1, ('parchment', 'paper</s>'): 1, ('paper</s>', '<s>'): 1, ('sauté', 'sliced'): 1, ('sliced', 'mushrooms'): 1, ('mushrooms', 'in'): 1, ('in', 'butter'): 1, ('butter', 'over'): 1, ('over', 'medium-high'): 1, ('medium-high', 'heat'): 1, ('golden', 'brown</s>'): 1, ('brown</s>', '<s>'): 1, ('season', 'mushrooms'): 1, ('mushrooms', 'with'): 1, ('with', 'salt'): 2, ('pepper', 'while'): 1, ('while', 'cooking'): 1, ('cooking', 'for'): 1, ('for', 'added'): 3, ('added', 'flavor</s>'): 2, ('flavor</s>', '<s>'): 2, ('<s>', 'rinse'): 1, ('rinse', 'quinoa'): 1, ('quinoa', 'under'): 1, ('water', 'before'): 1, ('before', 'cooking'): 1, ('cooking', 'to'): 1, ('to', 'remove'): 1, ('remove', 'bitter'): 1, ('bitter', 'saponins</s>'): 1, ('saponins</s>', '<s>'): 1, ('cook', 'quinoa'): 1, ('quinoa', 'in'): 1, ('in', 'vegetable'): 1, ('vegetable', 'broth'): 1, ('broth', 'according'): 1, ('package', 'directions'): 1, ('directions', 'for'): 1, ('blend', 'oats'): 1, ('oats', 'with'): 1, ('with', 'milk'): 1, ('milk', 'or'): 1, ('or', 'yogurt'): 1, ('yogurt', 'to'): 1, ('to', 'make'): 1, ('make', 'overnight'): 1, ('overnight', 'oats;'): 1, ('oats;', 'refrigerate'): 1, ('refrigerate', 'overnight</s>'): 1, ('overnight</s>', '<s>'): 1, ('prepare', 'banana'): 1, ('banana', 'bread'): 1, ('bread', 'by'): 1, ('by', 'mashing'): 2, ('mashing', 'ripe'): 2, ('ripe', 'bananas'): 1, ('bananas', 'then'): 1, ('then', 'mixing'): 2, ('mixing', 'them'): 2, ('them', 'with'): 2, ('with', 'flour'): 1, ('flour', 'and'): 2, ('and', 'sugar</s>'): 1, ('sugar</s>', '<s>'): 1, ('<s>', 'simmer'): 1, ('simmer', 'chicken'): 1, ('chicken', 'broth'): 1, ('broth', 'with'): 1, ('with', 'diced'): 1, ('diced', 'vegetables'): 1, ('as', 'carrots,'): 1, ('carrots,', 'celery,'): 1, ('celery,', 'onions'): 1, ('onions', 'for'): 1, ('for', 'soup'): 1, ('soup', 'base</s>'): 1, ('base</s>', '<s>'): 1, ('make', 'guacamole'): 1, ('guacamole', 'by'): 1, ('ripe', 'avocados'): 1, ('avocados', 'then'): 1, ('lime', 'juice'): 1, ('juice', 'and'): 1, ('and', 'cilantro</s>'): 1, ('cilantro</s>', '<s>'): 1, ('<s>', 'poach'): 1, ('poach', 'eggs'): 1, ('eggs', 'by'): 1, ('by', 'cracking'): 1, ('cracking', 'them'): 1, ('them', 'into'): 2, ('into', 'simmering'): 1, ('simmering', 'water;'): 1, ('water;', 'cook'): 1, ('cook', 'until'): 1, ('until', 'whites'): 1, ('whites', 'are'): 1, ('are', 'set'): 1, ('but', 'yolks'): 1, ('yolks', 'remain'): 1, ('remain', 'runny</s>'): 1, ('runny</s>', '<s>'): 1, ('marinate', 'shrimp'): 1, ('shrimp', 'in'): 1, ('in', 'garlic'): 1, ('garlic', 'butter'): 1, ('butter', 'before'): 1, ('before', 'skewering'): 1, ('skewering', 'them'): 1, ('them', 'onto'): 1, ('onto', 'skewers'): 1, ('skewers', 'for'): 1, ('for', 'grilling</s>'): 1, ('grilling</s>', '<s>'): 1, ('<s>', 'sprinkle'): 1, ('sprinkle', 'fresh'): 1, ('fresh', 'herbs'): 1, ('herbs', 'like'): 1, ('like', 'parsley'): 1, ('parsley', 'or'): 1, ('or', 'cilantro'): 1, ('cilantro', 'over'): 1, ('over', 'dishes'): 1, ('dishes', 'just'): 1, ('just', 'before'): 1, ('serving', 'for'): 1, ('added', 'freshness.</s>'): 1, ('freshness.</s>', '<s>'): 1, ('cook', 'oatmeal'): 1, ('oatmeal', 'by'): 1, ('by', 'boiling'): 1, ('boiling', 'water'): 1, ('water', 'then'): 1, ('adding', 'rolled'): 1, ('rolled', 'oats;'): 1, ('oats;', 'simmer'): 1, ('simmer', 'until'): 1, ('until', 'thickened.</s>'): 1, ('thickened.</s>', '<s>'): 1, ('<s>', 'top'): 1, ('top', 'oatmeal'): 1, ('oatmeal', 'with'): 1, ('with', 'sliced'): 1, ('sliced', 'bananas,'): 1, ('bananas,', 'honey,'): 1, ('honey,', 'or'): 1, ('or', 'nuts'): 1, ('nuts', 'for'): 1, ('for', 'extra'): 1, ('extra', 'flavor.</s>'): 1, ('flavor.</s>', '<s>'): 1, ('blend', 'frozen'): 1, ('frozen', 'fruits'): 1, ('fruits', 'like'): 1, ('like', 'strawberries'): 1, ('strawberries', 'or'): 1, ('or', 'mangoes'): 1, ('mangoes', 'with'): 1, ('with', 'yogurt'): 1, ('for', 'refreshing'): 1, ('refreshing', 'smoothies.</s>'): 1, ('smoothies.</s>', '<s>'): 1, ('prepare', 'sourdough'): 1, ('sourdough', 'starter'): 1, ('starter', 'by'): 1, ('mixing', 'flour'): 1, ('and', 'water;'): 1, ('water;', 'let'): 1, ('it', 'ferment'): 1, ('ferment', 'overnight.</s>'): 1, ('overnight.</s>', '<s>'): 1, ('<s>', 'create'): 1, ('create', 'barbecue'): 1, ('barbecue', 'sauce'): 1, ('sauce', 'by'): 1, ('combining', 'ketchup,'): 1, ('ketchup,', 'vinegar,'): 1, ('vinegar,', 'brown'): 1, ('brown', 'sugar,'): 1, ('sugar,', 'worcestershire'): 1, ('worcestershire', 'sauce.</s>'): 1, ('sauce.</s>', '<s>'): 1, ('<s>', 'roast'): 1, ('roast', 'sweet'): 1, ('sweet', 'potatoes'): 1, ('potatoes', 'by'): 1, ('by', 'cutting'): 1, ('cutting', 'them'): 1, ('into', 'cubes;'): 1, ('cubes;', 'toss'): 1, ('toss', 'with'): 2, ('with', 'olive'): 1, ('oil', 'before'): 1, ('before', 'baking.</s>'): 1, ('baking.</s>', '<s>'): 1, ('<s>', 'steam'): 1, ('steam', 'green'): 1, ('green', 'beans'): 1, ('beans', 'until'): 1, ('until', 'tender-crisp;'): 1, ('tender-crisp;', 'season'): 1, ('and', 'lemon'): 1, ('lemon', 'juice.</s>'): 1, ('juice.</s>', '<s>'): 1, ('<s>', 'combine'): 1, ('combine', 'quinoa'): 1, ('quinoa', 'salad'): 1, ('salad', 'ingredients'): 1, ('ingredients', 'like'): 1, ('like', 'black'): 1, ('black', 'beans,'): 1, ('beans,', 'corn,'): 1, ('corn,', 'diced'): 1, ('diced', 'peppers;'): 1, ('peppers;', 'dress'): 1, ('dress', 'lightly.</s>'): 1, ('lightly.</s>', '<s>'): 1, ('<s>', 'whip'): 1, ('whip', 'up'): 1, ('up', 'caesar'): 1, ('caesar', 'dressing'): 1, ('dressing', 'using'): 1, ('using', 'anchovies,'): 1, ('anchovies,', 'garlic'): 1, ('garlic', 'paste;'): 1, ('paste;', 'toss'): 1, ('with', 'romaine'): 1, ('romaine', 'lettuce.</s>'): 1, ('lettuce.</s>', '<s>'): 1, ('<s>', 'layer'): 1, ('layer', 'lasagna'): 1, ('lasagna', 'noodles'): 1, ('noodles', 'between'): 1, ('between', 'ricotta'): 1, ('ricotta', 'cheese'): 1, ('cheese', 'mixture;'): 1, ('mixture;', 'bake'): 1, ('bake', 'until'): 2, ('until', 'bubbly.</s>'): 1, ('bubbly.</s>', '<s>'): 1, ('prepare', \"shepherd's\"): 1, (\"shepherd's\", 'pie'): 1, ('pie', 'using'): 1, ('using', 'ground'): 1, ('ground', 'meat'): 1, ('meat', 'topped'): 1, ('topped', 'with'): 1, ('with', 'mashed'): 1, ('mashed', 'potatoes;'): 1, ('potatoes;', 'bake'): 1, ('until', 'golden.</s>'): 1, ('golden.</s>', '<s>'): 1, ('make', 'tacos'): 1, ('tacos', 'using'): 1, ('using', 'corn'): 1, ('corn', 'tortillas'): 1, ('tortillas', 'filled'): 1, ('filled', 'with'): 1, ('with', 'seasoned'): 1, ('seasoned', 'beef'): 1, ('beef', 'or'): 1, ('or', 'grilled'): 1, ('grilled', 'vegetables.</s>'): 1, ('vegetables.</s>', '<s>'): 1, ('prepare', 'curry'): 1, ('curry', 'by'): 1, ('by', 'simmering'): 1, ('simmering', 'meat'): 1, ('or', 'vegetables'): 1, ('vegetables', 'in'): 1, ('in', 'coconut'): 1, ('coconut', 'milk;'): 1, ('milk;', 'serve'): 1, ('serve', 'over'): 1, ('over', 'rice.</s>'): 1}\n"
     ]
    }
   ],
   "source": [
    "n_word_count = count_n_sequence(ngrams)\n",
    "print(n_word_count)"
   ]
  },
  {
   "cell_type": "code",
   "execution_count": 8,
   "id": "be3e74a5-13c6-42a3-8167-e75de2a21a16",
   "metadata": {},
   "outputs": [],
   "source": [
    "def probability_n_sequence():\n",
    "    \n",
    "    total_count = {}\n",
    "\n",
    "    \n",
    "    for sequence in n_word_count:\n",
    "\n",
    "        sequence_string  = f\"{sequence}\"\n",
    "\n",
    "        probability = n_word_count[sequence]/previous_word_count[sequence[0]]\n",
    "\n",
    "        if sequence not in total_count:\n",
    "            total_count[sequence_string] = probability\n",
    "\n",
    "    return total_count"
   ]
  },
  {
   "cell_type": "markdown",
   "id": "b402ee68-66e4-4ff6-81ed-0b95f0dce026",
   "metadata": {},
   "source": [
    "### Bigram and their probabilities"
   ]
  },
  {
   "cell_type": "code",
   "execution_count": 9,
   "id": "858b730b-13d3-4dd2-8b4b-9ca79ff4b089",
   "metadata": {},
   "outputs": [],
   "source": [
    "probability = probability_n_sequence()"
   ]
  },
  {
   "cell_type": "code",
   "execution_count": 10,
   "id": "318abb55-5ef9-49e1-97df-90690261ca2f",
   "metadata": {},
   "outputs": [],
   "source": [
    "import json"
   ]
  },
  {
   "cell_type": "code",
   "execution_count": 11,
   "id": "baf9c6d2-9e42-4132-a686-9aa27d1bb0db",
   "metadata": {
    "scrolled": true
   },
   "outputs": [],
   "source": [
    "with open(\"sample.json\",\"w\") as output_file:\n",
    "    json.dump(probability,output_file)"
   ]
  },
  {
   "cell_type": "code",
   "execution_count": null,
   "id": "4804c704-5680-44b1-9323-707d1014246f",
   "metadata": {},
   "outputs": [],
   "source": []
  }
 ],
 "metadata": {
  "kernelspec": {
   "display_name": "Python 3 (ipykernel)",
   "language": "python",
   "name": "python3"
  },
  "language_info": {
   "codemirror_mode": {
    "name": "ipython",
    "version": 3
   },
   "file_extension": ".py",
   "mimetype": "text/x-python",
   "name": "python",
   "nbconvert_exporter": "python",
   "pygments_lexer": "ipython3",
   "version": "3.13.2"
  }
 },
 "nbformat": 4,
 "nbformat_minor": 5
}
